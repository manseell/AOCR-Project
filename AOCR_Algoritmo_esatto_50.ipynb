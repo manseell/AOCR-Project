{
  "cells": [
    {
      "cell_type": "code",
      "execution_count": null,
      "metadata": {
        "colab": {
          "base_uri": "https://localhost:8080/"
        },
        "id": "0865cf11",
        "outputId": "81d6bce4-9d87-4c55-acc7-cf94165d5ef0"
      },
      "outputs": [],
      "source": [
        "#%pip install gurobipy"
      ]
    },
    {
      "cell_type": "code",
      "execution_count": null,
      "metadata": {
        "colab": {
          "base_uri": "https://localhost:8080/"
        },
        "id": "oYisl3bZ06WQ",
        "outputId": "acf2f25f-e5b4-45db-d65a-74bab3173e50"
      },
      "outputs": [],
      "source": [
        "%pip install pulp"
      ]
    },
    {
      "cell_type": "code",
      "execution_count": null,
      "metadata": {
        "id": "dLXfkh-VMdiL"
      },
      "outputs": [],
      "source": [
        "#import gurobipy as gp\n",
        "#from gurobipy import GRB, Model, quicksum\n",
        "\n",
        "import pulp\n",
        "\n",
        "import numpy as np\n",
        "import matplotlib.pyplot as plt\n",
        "\n",
        "import itertools"
      ]
    },
    {
      "cell_type": "markdown",
      "metadata": {
        "id": "AP8bhlNcVZu1"
      },
      "source": [
        "## Creazione dei dati"
      ]
    },
    {
      "cell_type": "code",
      "execution_count": null,
      "metadata": {
        "id": "IWB3s9tAGXfx"
      },
      "outputs": [],
      "source": [
        "# Numero casuale\n",
        "rnd = np.random\n",
        "rnd.seed(0)"
      ]
    },
    {
      "cell_type": "code",
      "execution_count": null,
      "metadata": {
        "id": "coXstkaFULZr"
      },
      "outputs": [],
      "source": [
        "n = 50    # Numero punti vendita\n",
        "# Bisogna ricordare che il nodo deposito, nella nostra formulazione, corrisponde a D={'s', 't'}\n",
        "  # con 's' visto come nodo deposito per l'uscita dei veicoli e 'v' come nodo deposito per entrata\n",
        "# Di conseguenza, poniamo 's'=xc[0] e 't'=xc[n+1]\n",
        "xc = rnd.rand(n+1)*200      # Vettore di coordinate x dei vari nodi\n",
        "xc = np.append(xc, xc[0])   # Coordinate x di 't' devono essere uguali alle coordinate x di 's'\n",
        "yc = rnd.rand(n+1)*100      # Vettore di coordinate y dei vari nodi\n",
        "yc = np.append(yc, yc[0])   # Coordinate y di 't' devono essere uguali alle coordinate y di 's'"
      ]
    },
    {
      "cell_type": "code",
      "execution_count": null,
      "metadata": {
        "id": "Y7VpwWJKULZs"
      },
      "outputs": [],
      "source": [
        "# CREAZIONE DATI\n",
        "\n",
        "P = [il for il in range(1,n+1)]         # Insieme P dei punti vendita\n",
        "N = [0] + P + [n+1]                     # Insieme N dei nodi, come unione di P e D={'s','t'}\n",
        "                                          # 's' corrisponde al nodo 0, mentre 't' corrisponde al nodo n+1\n",
        "\n",
        "# Insieme A degli archi\n",
        "# Devo controllare che il nodo i sia differente da j. Inoltre, devo anche controllare di non includere\n",
        "  # gli archi ('s','t') e ('t','s') poichè sia 's' che 't' corrispondono al nodo deposito\n",
        "A = [(i,j) for i in N for j in N if i!=j and (i,j)!=(n+1,0) and (i,j)!=(0,n+1)]\n",
        "\n",
        "# Costi associati a ogni arco\n",
        "c = {(i,j): np.random.randint(2,15) for i,j in A}\n",
        "\n",
        "# Tempo di percorrenza degli archi\n",
        "# Per semplicità ho posto il tempo di percorrenza come la distanza tra i nodi i e j\n",
        "t = {(i,j): int(np.hypot(xc[i]-xc[j], yc[i]-yc[j])) for i,j in A}\n",
        "\n",
        "# Richiesta per ogni nodo\n",
        "np.random.seed(0)\n",
        "d = {i: np.random.randint(10,15) for i in P}\n",
        "d[0] = 0                                    # Nodo deposito 's'\n",
        "d[n+1] = 0                                  # Nodo deposito 't'\n",
        "\n",
        "# Finestre di apertura dei punti di vendita\n",
        "a = {}\n",
        "b = {}\n",
        "# Orari depositi\n",
        "a[0], b[0] = 0, 1500\n",
        "a[n+1], b[n+1] = 0, 1500\n",
        "# Divisione in 3 fasce orario: {[20,480], [50,900], [710, 1450]}\n",
        "for i in P:\n",
        "    r = i % 3\n",
        "    if r == 1:\n",
        "        a[i], b[i] = 20, 560\n",
        "    elif r == 2:\n",
        "        a[i], b[i] = 50, 1200\n",
        "    else:\n",
        "        a[i], b[i] = 710, 1450\n",
        "\n",
        "V = list(range(1, 11))                      # Insieme V dei veicoli\n",
        "Q = {1:90, 2:90, 3:80, 4:80, 5:90, 6:90,    # Insieme Q delle capacità massime dei veicoli\n",
        "     7:80, 8:80, 9:90, 10:100}              \n",
        "\n",
        "# Tempo di servizio\n",
        "s = {(i,k): np.random.randint(3,5) if i!=0 and i!=n+1 else 0 for i in N for k in V}"
      ]
    },
    {
      "cell_type": "code",
      "execution_count": null,
      "metadata": {
        "colab": {
          "base_uri": "https://localhost:8080/"
        },
        "id": "UUiiNtG2ULZt",
        "outputId": "0c86c4f2-ad66-4ace-cefc-708e524006e9"
      },
      "outputs": [],
      "source": [
        "print(P)\n",
        "print(N)\n",
        "print(xc)\n",
        "print(yc)\n",
        "print(A)\n",
        "print(c)\n",
        "print(t)\n",
        "print(d)\n",
        "print(a)\n",
        "print(b)\n",
        "print(s)\n",
        "print(V)\n",
        "print(Q)\n"
      ]
    },
    {
      "cell_type": "code",
      "execution_count": null,
      "metadata": {
        "colab": {
          "base_uri": "https://localhost:8080/",
          "height": 676
        },
        "id": "mCFl-T3WULZs",
        "outputId": "269f7ab5-a64c-413a-d5bc-055182800cad"
      },
      "outputs": [],
      "source": [
        "# Visualizzazione deposito e punti vendita\n",
        "plt.figure(figsize=(12,8))\n",
        "plt.plot(xc[0], yc[0], c='r', marker='s')     # Nodo deposito\n",
        "plt.scatter(xc[1:n+1], yc[1:n+1], c='b')          # Nodi punti vendita\n",
        "for i in P:\n",
        "  plt.annotate(\"$d_{%i}=%d$ | $a_{%i}=%d$ | $b_{%i}=%d$\" %(i, d[i], i, a[i], i, b[i]), (xc[i]+1, yc[i]+1))"
      ]
    },
    {
      "cell_type": "markdown",
      "metadata": {
        "id": "5AJ-DgwlULZu"
      },
      "source": []
    },
    {
      "cell_type": "markdown",
      "metadata": {
        "id": "DNEWb6Cf0lLC"
      },
      "source": [
        "## Algoritmo esatto PuLP\n"
      ]
    },
    {
      "cell_type": "code",
      "execution_count": null,
      "metadata": {
        "id": "ICYG3ygf0lLE"
      },
      "outputs": [],
      "source": [
        "# Creazione archi per il modello\n",
        "arco_var = [(i,j,k) for i in N for j in N for k in V if i!=j and (i,j)!=(n+1,0) and (i,j)!=(0,n+1)]\n",
        "arco_arrivo = [(i,k)for i in N for k in V]"
      ]
    },
    {
      "cell_type": "code",
      "execution_count": null,
      "metadata": {
        "id": "ummDBgqP0lLE"
      },
      "outputs": [],
      "source": [
        "# Modello\n",
        "model = pulp.LpProblem(\"VRPTW\", pulp.LpMinimize)\n",
        "\n",
        "# Variabili di decisione\n",
        "x = pulp.LpVariable.dicts(\"x\", arco_var, cat=\"Binary\")\n",
        "l = pulp.LpVariable.dicts(\"x\", arco_arrivo, lowBound = 0, cat=\"Continuous\")\n",
        "\n",
        "# Funzione obiettivo\n",
        "model += pulp.lpSum(c[i,j]*x[i,j,k] for (i,j,k) in arco_var)"
      ]
    },
    {
      "cell_type": "code",
      "execution_count": null,
      "metadata": {
        "id": "33Ynw5270lLF"
      },
      "outputs": [],
      "source": [
        "# Vincoli\n",
        "\n",
        "# Vincolo di capacità\n",
        "for k in V:\n",
        "  model += pulp.lpSum(d[i]*x[i,j,k] for i in P for j in N if i!=j) <= Q[k]\n",
        "\n",
        "# Vincolo di unicità dei punti di vendita\n",
        "for i in P:\n",
        "  model += pulp.lpSum(x[i,j,k] for j in N for k in V if (i,j) if i!=j) == 1\n",
        "\n",
        "# Vincolo sulla partenza e arrivo del singolo veicolo\n",
        "for k in V:\n",
        "  model += pulp.lpSum(x[0,j,k] for j in P) == 1         # <=1 (senza partenza obbligatoria di tutti i veicoli)\n",
        "  model += pulp.lpSum(x[i,n+1,k] for i in P) == 1       # <=1 (senza partenza obbligatoria di tutti i veicoli)\n",
        "\n",
        "# Vincolo di coerenze partenza-arrivo\n",
        "for k in V:\n",
        "  model += pulp.lpSum(x[0,j,k] for j in P) == pulp.lpSum(x[i,n+1,k] for i in P)\n",
        "\n",
        "# Vincolo sul flusso dei punti vendita\n",
        "for j in P:\n",
        "  for k in V:\n",
        "    model += pulp.lpSum(x[i,j,k] for i in N if i!=j) == pulp.lpSum(x[j,i,k] for i in N if i!=j)\n",
        "\n",
        "# Vincolo sui sottogiri\n",
        "for r in range(2, len(P)+1):        # Sottoinsiemi di cardinalità >=2\n",
        "  for S in itertools.combinations(P,r):\n",
        "    for k in V:\n",
        "      model += pulp.lpSum(x[i,j,k] for i in S for j in S if i!=j and (i,j)!=(n+1,0) and (i,j)!=(0,n+1)) <= len(S)-1\n",
        "\n",
        "# Vincolo di inizio servizio\n",
        "M = 10000000\n",
        "for k in V:\n",
        "  for j in N:\n",
        "    for i in N:\n",
        "      if i!=j and (i,j)!=(n+1,0) and (i,j)!=(0,n+1):\n",
        "        model += l[j,k] >= (l[i,k]+s[i,k]+t[i,j]) - M*(1-x[i,j,k])\n",
        "\n",
        "\n",
        "# Vincolo sulla finestra temporale\n",
        "for (i, k) in arco_arrivo:\n",
        "    model += l[i,k] >= a[i]\n",
        "    model += l[i,k] <= b[i]\n",
        "\n",
        "# Inizializzazione del deposito\n",
        "for k in V:\n",
        "  l[0,k] = a[0]\n",
        "\n",
        "model.solve()\n",
        "\n",
        "print(\"Costo: \", pulp.value(model.objective))"
      ]
    },
    {
      "cell_type": "code",
      "execution_count": null,
      "metadata": {
        "colab": {
          "base_uri": "https://localhost:8080/"
        },
        "id": "c3iuFAlg8bjU",
        "outputId": "30b53f51-9566-4953-fc15-9e4df123193c"
      },
      "outputs": [],
      "source": [
        "for k in V:\n",
        "  print(f\"\\nPercorso veicolo {k}:\")\n",
        "  for (i,j) in A:\n",
        "    if x[i,j,k].varValue == 1:\n",
        "      print(f\"  {i} → {j}\")"
      ]
    },
    {
      "cell_type": "code",
      "execution_count": null,
      "metadata": {
        "colab": {
          "base_uri": "https://localhost:8080/",
          "height": 229
        },
        "id": "rQ_jjSDScDbJ",
        "outputId": "6f196330-cba8-44dc-a54c-0b9627c562e7"
      },
      "outputs": [],
      "source": [
        "# Colori per i veicoli\n",
        "colori = ['red', 'blue', 'green', 'orange', 'purple', 'brown', 'yellow', 'grey', 'black', 'cyan']\n",
        "\n",
        "plt.figure(figsize=(10, 8))\n",
        "\n",
        "# Disegna i nodi\n",
        "for i in N:\n",
        "  plt.plot(xc[i], yc[i], 'ko')\n",
        "  plt.text(xc[i]+1, yc[i]+1, str(i), fontsize=9)\n",
        "\n",
        "# Disegna gli archi attivi per ogni veicolo\n",
        "for k in V:\n",
        "  for (i, j) in A:\n",
        "    if x[i, j, k].varValue == 1:\n",
        "      plt.plot([xc[i], xc[j]], [yc[i], yc[j]], color=colori[k-1], linewidth=2, label=f'Veicolo {k}')\n",
        "\n",
        "# Evita duplicati nella legenda\n",
        "handles, labels = plt.gca().get_legend_handles_labels()\n",
        "by_label = dict(zip(labels, handles))\n",
        "plt.legend(by_label.values(), by_label.keys())\n",
        "\n",
        "plt.title(\"Percorsi veicoli VRPTW\")\n",
        "plt.xlabel(\"X\")\n",
        "plt.ylabel(\"Y\")\n",
        "plt.grid(True)\n",
        "plt.show()"
      ]
    }
  ],
  "metadata": {
    "colab": {
      "collapsed_sections": [
        "wyantXBKsOzM"
      ],
      "provenance": []
    },
    "kernelspec": {
      "display_name": "Python 3",
      "name": "python3"
    },
    "language_info": {
      "codemirror_mode": {
        "name": "ipython",
        "version": 3
      },
      "file_extension": ".py",
      "mimetype": "text/x-python",
      "name": "python",
      "nbconvert_exporter": "python",
      "pygments_lexer": "ipython3",
      "version": "3.10.11"
    }
  },
  "nbformat": 4,
  "nbformat_minor": 0
}
